{
 "cells": [
  {
   "cell_type": "code",
   "execution_count": null,
   "metadata": {},
   "outputs": [],
   "source": [
    "import io\n",
    "import json\n",
    "import os\n",
    "import time\n",
    "import base64\n",
    "import re"
   ]
  },
  {
   "cell_type": "code",
   "execution_count": null,
   "metadata": {},
   "outputs": [],
   "source": [
    "\n",
    "'''                  convert files from base64 \n",
    "------------------------------------------------------------------------'''\n",
    "currImg = 0\n",
    "\n",
    "#  import the data\n",
    "def importData (unique_id):\n",
    "    filename = f\"./{unique_id}.json\"\n",
    "    if (not os.path.exists(filename)):\n",
    "        raise Exception(f\"there is no json file with the name {unique_id}\")\n",
    "    elif (os.path.getsize(filename) < 105000000):\n",
    "        jsonFile = io.open(filename, mode=\"r\", encoding=\"utf-8\")\n",
    "        jsonData = json.loads(jsonFile.read())\n",
    "        jsonFile.close()\n",
    "        return jsonData\n",
    "    else:\n",
    "        raise Exception(f\"{unique_id}.json is too big to process\")\n",
    "\n",
    "def convertBase64 (base64str, picOrvideo):\n",
    "    print('convertBase64')\n",
    "    global currImg \n",
    "    fileExtension = re.search(r\"(?<=data:.{5}/).*(?=;)\", base64str).group(0)\n",
    "    newBase64str = re.sub(r'data:.*/.*;base64', '', base64str[0: 30]) +  base64str[30::]\n",
    "    contentToWrite = base64.urlsafe_b64decode(newBase64str)\n",
    "    filepath = \"./\" + str(picOrvideo) + str(currImg) + '.' + str(fileExtension)\n",
    "    filepathFromCode = os.path.join(\"../data\", str(unique_id), str(picOrvideo) + str(currImg) + '.' + str(fileExtension))\n",
    "    print(filepathFromCode)\n",
    "    imgFile =  open(filepath, 'wb')\n",
    "    imgFile.write(contentToWrite)\n",
    "    imgFile.close()\n",
    "    currImg += 1\n",
    "    return filepathFromCode\n",
    "\n",
    "# find all base64 files\n",
    "def findPic(json):\n",
    "    iterator = range(len(json)) if type(json) == list else json\n",
    "    for index in iterator:\n",
    "        if (index == 'pic' or index == 'video'):\n",
    "            filepath = convertBase64(json[index], index)\n",
    "            json[index] = str(filepath).replace('\\\\', '/')\n",
    "        elif (type(json[index]) == list or type(json[index]) == dict):\n",
    "            findPic(json[index])\n"
   ]
  },
  {
   "cell_type": "code",
   "execution_count": null,
   "metadata": {},
   "outputs": [],
   "source": [
    "\n",
    "'''                  change names to unique_ids  \n",
    "------------------------------------------------------------------------'''\n",
    "idList = []\n",
    "\n",
    "def findData(path):\n",
    "    result = []\n",
    "    for root, dirs, files in os.walk(path):\n",
    "        for name in files:\n",
    "            if ('data' in name) and ('.json' in name):\n",
    "                result.append(os.path.join(root, name))\n",
    "    # raise exception if no files were found\n",
    "    if len(result) > 0:\n",
    "        return result\n",
    "    else:\n",
    "        os.chdir('../..')\n",
    "        raise Exception('no file named data.json exists in ' + str(os.getcwd()))\n",
    "\n",
    "\n",
    "def startConversion (unique_id): \n",
    "    jsonData = importData(unique_id)\n",
    "    findPic(jsonData[\"DATA\"])\n",
    "    \n",
    "    # export data after base64 conversion\n",
    "    with io.open(f\"./data/{unique_id}/{unique_id}.json\", mode=\"w\", encoding=\"utf-8\") as jsonFile:\n",
    "        stringified = json.dumps(jsonData, ensure_ascii=False)\n",
    "        jsonFile.write(stringified)\n"
   ]
  },
  {
   "cell_type": "code",
   "execution_count": 1,
   "metadata": {},
   "outputs": [
    {
     "name": "stdout",
     "output_type": "stream",
     "text": [
      "62708\n",
      ".\\data\\62708\n",
      "change dir\n",
      "convertBase64\n",
      "../data\\62708\\pic0.jpeg\n",
      "convertBase64\n",
      "../data\\62708\\video1.mp4\n"
     ]
    },
    {
     "ename": "FileNotFoundError",
     "evalue": "[Errno 2] No such file or directory: './data/62708/62708.json'",
     "output_type": "error",
     "traceback": [
      "\u001b[1;31m---------------------------------------------------------------------------\u001b[0m",
      "\u001b[1;31mFileNotFoundError\u001b[0m                         Traceback (most recent call last)",
      "\u001b[1;32mc:\\Users\\MadorTil\\Documents\\projects\\madortill\\generic-cards\\new.ipynb Cell 1\u001b[0m line \u001b[0;36m9\n\u001b[0;32m     <a href='vscode-notebook-cell:/c%3A/Users/MadorTil/Documents/projects/madortill/generic-cards/new.ipynb#W0sZmlsZQ%3D%3D?line=96'>97</a>\u001b[0m \u001b[39mprint\u001b[39m(\u001b[39m'\u001b[39m\u001b[39mchange dir\u001b[39m\u001b[39m'\u001b[39m)\n\u001b[0;32m     <a href='vscode-notebook-cell:/c%3A/Users/MadorTil/Documents/projects/madortill/generic-cards/new.ipynb#W0sZmlsZQ%3D%3D?line=97'>98</a>\u001b[0m os\u001b[39m.\u001b[39mchdir(\u001b[39mf\u001b[39m\u001b[39m'\u001b[39m\u001b[39m.\u001b[39m\u001b[39m\\\\\u001b[39;00m\u001b[39mdata\u001b[39m\u001b[39m\\\\\u001b[39;00m\u001b[39m{\u001b[39;00munique_id\u001b[39m}\u001b[39;00m\u001b[39m'\u001b[39m)\n\u001b[1;32m---> <a href='vscode-notebook-cell:/c%3A/Users/MadorTil/Documents/projects/madortill/generic-cards/new.ipynb#W0sZmlsZQ%3D%3D?line=98'>99</a>\u001b[0m startConversion(unique_id)\n\u001b[0;32m    <a href='vscode-notebook-cell:/c%3A/Users/MadorTil/Documents/projects/madortill/generic-cards/new.ipynb#W0sZmlsZQ%3D%3D?line=99'>100</a>\u001b[0m os\u001b[39m.\u001b[39mchdir(\u001b[39m'\u001b[39m\u001b[39m../..\u001b[39m\u001b[39m'\u001b[39m)\n\u001b[0;32m    <a href='vscode-notebook-cell:/c%3A/Users/MadorTil/Documents/projects/madortill/generic-cards/new.ipynb#W0sZmlsZQ%3D%3D?line=100'>101</a>\u001b[0m \u001b[39mprint\u001b[39m(\u001b[39mf\u001b[39m\u001b[39m\"\u001b[39m\u001b[39mcwd: \u001b[39m\u001b[39m{\u001b[39;00mos\u001b[39m.\u001b[39mgetcwd()\u001b[39m}\u001b[39;00m\u001b[39m\"\u001b[39m)\n",
      "\u001b[1;32mc:\\Users\\MadorTil\\Documents\\projects\\madortill\\generic-cards\\new.ipynb Cell 1\u001b[0m line \u001b[0;36m7\n\u001b[0;32m     <a href='vscode-notebook-cell:/c%3A/Users/MadorTil/Documents/projects/madortill/generic-cards/new.ipynb#W0sZmlsZQ%3D%3D?line=69'>70</a>\u001b[0m findPic(jsonData[\u001b[39m\"\u001b[39m\u001b[39mDATA\u001b[39m\u001b[39m\"\u001b[39m])\n\u001b[0;32m     <a href='vscode-notebook-cell:/c%3A/Users/MadorTil/Documents/projects/madortill/generic-cards/new.ipynb#W0sZmlsZQ%3D%3D?line=71'>72</a>\u001b[0m \u001b[39m# export data after base64 conversion\u001b[39;00m\n\u001b[1;32m---> <a href='vscode-notebook-cell:/c%3A/Users/MadorTil/Documents/projects/madortill/generic-cards/new.ipynb#W0sZmlsZQ%3D%3D?line=72'>73</a>\u001b[0m \u001b[39mwith\u001b[39;00m io\u001b[39m.\u001b[39;49mopen(\u001b[39mf\u001b[39;49m\u001b[39m\"\u001b[39;49m\u001b[39m./data/\u001b[39;49m\u001b[39m{\u001b[39;49;00munique_id\u001b[39m}\u001b[39;49;00m\u001b[39m/\u001b[39;49m\u001b[39m{\u001b[39;49;00munique_id\u001b[39m}\u001b[39;49;00m\u001b[39m.json\u001b[39;49m\u001b[39m\"\u001b[39;49m, mode\u001b[39m=\u001b[39;49m\u001b[39m\"\u001b[39;49m\u001b[39mw\u001b[39;49m\u001b[39m\"\u001b[39;49m, encoding\u001b[39m=\u001b[39;49m\u001b[39m\"\u001b[39;49m\u001b[39mutf-8\u001b[39;49m\u001b[39m\"\u001b[39;49m) \u001b[39mas\u001b[39;00m jsonFile:\n\u001b[0;32m     <a href='vscode-notebook-cell:/c%3A/Users/MadorTil/Documents/projects/madortill/generic-cards/new.ipynb#W0sZmlsZQ%3D%3D?line=73'>74</a>\u001b[0m     stringified \u001b[39m=\u001b[39m json\u001b[39m.\u001b[39mdumps(jsonData, ensure_ascii\u001b[39m=\u001b[39m\u001b[39mFalse\u001b[39;00m)\n\u001b[0;32m     <a href='vscode-notebook-cell:/c%3A/Users/MadorTil/Documents/projects/madortill/generic-cards/new.ipynb#W0sZmlsZQ%3D%3D?line=74'>75</a>\u001b[0m     jsonFile\u001b[39m.\u001b[39mwrite(stringified)\n",
      "\u001b[1;31mFileNotFoundError\u001b[0m: [Errno 2] No such file or directory: './data/62708/62708.json'"
     ]
    }
   ],
   "source": [
    "\n",
    "'''                  start running code \n",
    "------------------------------------------------------------------------'''\n",
    "allDataFiles = findData('.')\n",
    "    \n",
    "\n",
    "for file in allDataFiles:\n",
    "    unique_id = str(int(time.time()))[5:] #converting to int to round the float, then converting to str\n",
    "    print(unique_id)\n",
    "    #  check if dir exists and if not, creates new one\n",
    "    if not os.path.exists(os.path.join(\".\\\\data\\\\\", str(unique_id))): \n",
    "        print(os.path.join(\".\\\\data\\\\\", str(unique_id)))\n",
    "        os.makedirs(os.path.join(\".\\\\data\\\\\", str(unique_id)))\n",
    "    \n",
    "    # rename and move the file to id directory inside ./data/\n",
    "    newName = os.path.join(\".\\\\data\\\\\", str(unique_id) , str(unique_id) + '.json')\n",
    "    os.rename(file, newName)\n",
    "    \n",
    "    # convert to base 64\n",
    "    print('change dir')\n",
    "    os.chdir(f'.\\\\data\\\\{unique_id}')\n",
    "    startConversion(unique_id)\n",
    "    os.chdir('../..')\n",
    "    print(f\"cwd: {os.getcwd()}\")\n",
    "\n",
    "    idList.append(unique_id)\n",
    "    # add id to list of all jsons\n",
    "    with open(\"data/jsonIds.json\", \"r\") as jsonFile:\n",
    "        data = json.load(jsonFile)\n",
    "\n",
    "    data.append(unique_id)\n",
    "\n",
    "    with open(\"data/jsonIds.json\", \"w\") as jsonFile:\n",
    "        json.dump(data, jsonFile)\n"
   ]
  },
  {
   "cell_type": "code",
   "execution_count": 1,
   "metadata": {},
   "outputs": [
    {
     "name": "stderr",
     "output_type": "stream",
     "text": [
      "warning: LF will be replaced by CRLF in new.ipynb.\n",
      "The file will have its original line endings in your working directory\n"
     ]
    }
   ],
   "source": [
    "!git add ."
   ]
  }
 ],
 "metadata": {
  "kernelspec": {
   "display_name": "Python 3",
   "language": "python",
   "name": "python3"
  },
  "language_info": {
   "codemirror_mode": {
    "name": "ipython",
    "version": 3
   },
   "file_extension": ".py",
   "mimetype": "text/x-python",
   "name": "python",
   "nbconvert_exporter": "python",
   "pygments_lexer": "ipython3",
   "version": "3.10.4"
  }
 },
 "nbformat": 4,
 "nbformat_minor": 2
}
