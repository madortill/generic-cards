{
 "cells": [
  {
   "cell_type": "code",
   "execution_count": 1,
   "metadata": {},
   "outputs": [],
   "source": [
    "import io\n",
    "import json\n",
    "import os\n",
    "import time\n",
    "import base64\n",
    "import re\n",
    "import ctypes\n",
    "import subprocess"
   ]
  },
  {
   "cell_type": "code",
   "execution_count": 2,
   "metadata": {},
   "outputs": [],
   "source": [
    "\n",
    "'''                  alert function \n",
    "------------------------------------------------------------------------'''\n",
    "MB_ICONSTOP = MB_ICONERROR = MB_ICONHAND = 0x10\n",
    "MB_ICONINFORMATION = MB_ICONASTERISK = 0x40\n",
    "MB_DEFAULT_DESKTOP_ONLY = 0x20000\n",
    "MB_RIGHT = 0x80000\n",
    "MB_RTLREADING = 0x100000\n",
    "MB_TOPMOST = 0x40000\n",
    "\n",
    "\n",
    "def msgBox(title, text, style='info'):\n",
    "    styleCodes = MB_RTLREADING | MB_RIGHT | MB_ICONASTERISK\n",
    "    if style == 'error':\n",
    "        styleCodes = MB_ICONERROR | MB_RTLREADING | MB_RIGHT | MB_TOPMOST\n",
    "    \n",
    "    return ctypes.windll.user32.MessageBoxW(None, text, title, styleCodes)"
   ]
  },
  {
   "cell_type": "code",
   "execution_count": 3,
   "metadata": {},
   "outputs": [],
   "source": [
    "\n",
    "'''                  convert files from base64 \n",
    "------------------------------------------------------------------------'''\n",
    "currImg = 0\n",
    "\n",
    "#  import the data\n",
    "def importData (unique_id):\n",
    "    filename = f\"./{unique_id}.json\"\n",
    "    if (not os.path.exists(filename)):\n",
    "        raise Exception(f\"there is no json file with the name {unique_id}\")\n",
    "    elif (os.path.getsize(filename) < 105000000):\n",
    "        jsonFile = io.open(filename, mode=\"r\", encoding=\"utf-8\")\n",
    "        jsonData = json.loads(jsonFile.read())\n",
    "        jsonFile.close()\n",
    "        return jsonData\n",
    "    else:\n",
    "        raise Exception(f\"{unique_id}.json is too big to process\")\n",
    "\n",
    "def convertBase64 (base64str, picOrvideo):\n",
    "    global currImg \n",
    "    fileExtension = re.search(r\"(?<=data:.{5}/).*(?=;)\", base64str).group(0)\n",
    "    newBase64str = re.sub(r'data:.*/.*;base64', '', base64str[0: 30]) +  base64str[30::]\n",
    "    contentToWrite = base64.urlsafe_b64decode(newBase64str)\n",
    "    filepath = \".\\\\\" + str(picOrvideo) + str(currImg) + '.' + str(fileExtension)\n",
    "    filepathFromCode = os.path.join(\"..\\\\data\", str(unique_id), str(picOrvideo) + str(currImg) + '.' + str(fileExtension))\n",
    "    imgFile =  open(filepath, 'wb')\n",
    "    imgFile.write(contentToWrite)\n",
    "    imgFile.close()\n",
    "    currImg += 1\n",
    "    return filepathFromCode\n",
    "\n",
    "# find all base64 files\n",
    "def findPic(json):\n",
    "    iterator = range(len(json)) if type(json) == list else json\n",
    "    for index in iterator:\n",
    "        if (index == 'pic' or index == 'video'):\n",
    "            filepath = convertBase64(json[index], index)\n",
    "            json[index] = str(filepath).replace('\\\\', '/')\n",
    "        elif (type(json[index]) == list or type(json[index]) == dict):\n",
    "            findPic(json[index])\n"
   ]
  },
  {
   "cell_type": "code",
   "execution_count": 4,
   "metadata": {},
   "outputs": [],
   "source": [
    "\n",
    "'''                  change names to unique_ids  \n",
    "------------------------------------------------------------------------'''\n",
    "idList = []\n",
    "\n",
    "def findData(path):\n",
    "    result = []\n",
    "    for root, dirs, files in os.walk(path):\n",
    "        for name in files:\n",
    "            if ('data' in name) and ('.json' in name):\n",
    "                result.append(os.path.join(root, name))\n",
    "    # raise exception if no files were found\n",
    "    if len(result) > 0:\n",
    "        return result\n",
    "    else:\n",
    "        msgBox('אופס!', 'לא מצאנו אף קובץ שקוראים לו data.json. \\n יכול להיות ששמתם אותו במקום אחר?', 'error')\n",
    "        raise Exception('no file named data.json exists in ' + str(os.getcwd()))\n",
    "\n",
    "\n",
    "def startConversion (unique_id): \n",
    "    jsonData = importData(unique_id)\n",
    "    if \"DATA\" in jsonData:\n",
    "        findPic(jsonData[\"DATA\"])\n",
    "    else:\n",
    "        raise Exception('make sure there is a data key in data.json!')\n",
    "    \n",
    "    # export data after base64 conversion\n",
    "    with io.open(f\"./{unique_id}.json\", mode=\"w\", encoding=\"utf-8\") as jsonFile:\n",
    "        stringified = json.dumps(jsonData, ensure_ascii=False)\n",
    "        jsonFile.write(stringified)\n"
   ]
  },
  {
   "cell_type": "code",
   "execution_count": 5,
   "metadata": {},
   "outputs": [
    {
     "name": "stdout",
     "output_type": "stream",
     "text": [
      "unique_id 54265\n",
      "cwd: c:\\Users\\MadorTil\\Documents\\projects\\madortill\\generic-cards\n"
     ]
    }
   ],
   "source": [
    "\n",
    "'''                  start running code \n",
    "------------------------------------------------------------------------'''\n",
    "allDataFiles = findData('.')\n",
    "    \n",
    "\n",
    "unique_id = str(int(time.time()))[5:] #converting to int to round the float, then converting to str\n",
    "for file in allDataFiles:\n",
    "    print('unique_id ' + unique_id)\n",
    "    #  check if dir exists and if not, creates new one\n",
    "    if not os.path.exists(os.path.join(\".\\\\data\\\\\", str(unique_id))): \n",
    "        os.makedirs(os.path.join(\".\\\\data\\\\\", str(unique_id)))\n",
    "    \n",
    "    # rename and move the file to id directory inside ./data/\n",
    "    newName = os.path.join(\".\\\\data\\\\\", str(unique_id) , str(unique_id) + '.json')\n",
    "    os.rename(file, newName)\n",
    "    \n",
    "    # convert to base 64\n",
    "    os.chdir(f'.\\\\data\\\\{unique_id}')\n",
    "    startConversion(unique_id)\n",
    "    os.chdir('../..')\n",
    "    print(f\"cwd: {os.getcwd()}\")\n",
    "\n",
    "    idList.append(unique_id)\n",
    "    # add id to list of all jsons\n",
    "    with open(\"./data/id-list.json\", \"r\") as jsonFile:\n",
    "        data = json.load(jsonFile)\n",
    "\n",
    "    data.append(unique_id)\n",
    "\n",
    "    with open(\"./data/id-list.json\", \"w\") as jsonFile:\n",
    "        json.dump(data, jsonFile)\n",
    "\n"
   ]
  },
  {
   "cell_type": "code",
   "execution_count": 6,
   "metadata": {},
   "outputs": [
    {
     "name": "stdout",
     "output_type": "stream",
     "text": [
      "fatal: The upstream branch of your current branch does not match\n",
      "the name of your current branch.  To push to the upstream branch\n",
      "on the remote, use\n",
      "\n",
      "    git push origin HEAD:getDataByURLParams\n",
      "\n",
      "To push to the branch of the same name on the remote, use\n",
      "\n",
      "    git push origin HEAD\n",
      "\n",
      "To choose either option permanently, see push.default in 'git help config'.\n",
      "git indicated failure (exit code 128; full command: git push).\n",
      "At C:\\Users\\MadorTil\\Documents\\projects\\madortill\\generic-cards\\copy.ps1:21 char:24\n",
      "+ ... EXITCODE) { Throw \"$exe indicated failure (exit code $LASTEXITCODE; f ...\n",
      "+                 ~~~~~~~~~~~~~~~~~~~~~~~~~~~~~~~~~~~~~~~~~~~~~~~~~~~~~~~~~\n",
      "    + CategoryInfo          : OperationStopped: (git indicated f...and: git push).:String) [], RuntimeException\n",
      "    + FullyQualifiedErrorId : git indicated failure (exit code 128; full command: git push).\n",
      " \n",
      "\n"
     ]
    }
   ],
   "source": [
    "# run powershell code (upload to git + copy to clip board) and show results\n",
    "p = subprocess.run([\"powershell.exe\", \"./copy.ps1\", unique_id], capture_output=True)\n",
    "error = p.stderr.decode('utf-8')\n",
    "if error:\n",
    "    message = 'משהו השתבש. \\n בקשו ממפתחת לומדה להריץ את קובץ הפייתון דרך הטרמינל כדי לקבל פרטים נוספים.'\n",
    "    if re.search(r'^fatal: (.+)', error) != None:\n",
    "        message = 'הראו את השגיאה למפתחת לומדה: \\n' + re.search(r'^fatal: (.+)', error)[1]\n",
    "    print(error)\n",
    "    msgBox('אוי! משהו השתבש.', message , 'error')\n",
    "else:\n",
    "    print('powershell output: \\n' + p.stdout.decode('utf-8'))  \n",
    "    msgBox('לומדה חדשה נוצרה!', f'לחצו \"אישור\" כדי להעתיק את הקישור הבא ללוח: https://madortill.github.io/generic-cards/code/?path={unique_id}', 'info')"
   ]
  },
  {
   "cell_type": "code",
   "execution_count": 1,
   "metadata": {},
   "outputs": [
    {
     "data": {
      "text/plain": [
       "1"
      ]
     },
     "execution_count": 1,
     "metadata": {},
     "output_type": "execute_result"
    }
   ],
   "source": [
    "import os\n",
    "\n",
    "os.system('Set-Clipboard -Value \"madortill.github.io/$currRepo/code/?path=$unique_id\"')"
   ]
  }
 ],
 "metadata": {
  "kernelspec": {
   "display_name": "Python 3",
   "language": "python",
   "name": "python3"
  },
  "language_info": {
   "codemirror_mode": {
    "name": "ipython",
    "version": 3
   },
   "file_extension": ".py",
   "mimetype": "text/x-python",
   "name": "python",
   "nbconvert_exporter": "python",
   "pygments_lexer": "ipython3",
   "version": "3.10.4"
  }
 },
 "nbformat": 4,
 "nbformat_minor": 2
}
